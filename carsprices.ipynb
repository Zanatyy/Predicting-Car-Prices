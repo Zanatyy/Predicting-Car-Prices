{
  "nbformat": 4,
  "nbformat_minor": 0,
  "metadata": {
    "colab": {
      "name": "carsprices.ipynb",
      "provenance": [],
      "authorship_tag": "ABX9TyPybVFIEcomwDBOPqWvZdJ7",
      "include_colab_link": true
    },
    "kernelspec": {
      "name": "python3",
      "display_name": "Python 3"
    },
    "language_info": {
      "name": "python"
    }
  },
  "cells": [
    {
      "cell_type": "markdown",
      "metadata": {
        "id": "view-in-github",
        "colab_type": "text"
      },
      "source": [
        "<a href=\"https://colab.research.google.com/github/Zanatyy/Predicting-Car-Prices-Using-Linear-Regression/blob/main/carsprices.ipynb\" target=\"_parent\"><img src=\"https://colab.research.google.com/assets/colab-badge.svg\" alt=\"Open In Colab\"/></a>"
      ]
    },
    {
      "cell_type": "markdown",
      "metadata": {
        "id": "L-Lrcq8bsDKV"
      },
      "source": [
        "# Importing Libraries"
      ]
    },
    {
      "cell_type": "code",
      "metadata": {
        "colab": {
          "base_uri": "https://localhost:8080/"
        },
        "id": "n-lx62ddOgPc",
        "outputId": "ff90c53a-ef02-44c7-d39d-0c51c97e4fda"
      },
      "source": [
        "import numpy as np\n",
        "import matplotlib.pyplot as plt\n",
        "import pandas as pd\n",
        "import statsmodels.api as sm\n",
        "import seaborn as sns\n",
        "sns.set()"
      ],
      "execution_count": 1,
      "outputs": [
        {
          "output_type": "stream",
          "name": "stderr",
          "text": [
            "/usr/local/lib/python3.7/dist-packages/statsmodels/tools/_testing.py:19: FutureWarning: pandas.util.testing is deprecated. Use the functions in the public API at pandas.testing instead.\n",
            "  import pandas.util.testing as tm\n"
          ]
        }
      ]
    },
    {
      "cell_type": "markdown",
      "metadata": {
        "id": "OC7xk0hAsMe1"
      },
      "source": [
        "## Colab commands"
      ]
    },
    {
      "cell_type": "code",
      "metadata": {
        "id": "Qdadr283PVOp",
        "colab": {
          "base_uri": "https://localhost:8080/"
        },
        "outputId": "7758ff01-2e2b-4206-ce8b-e86328b8b8d8"
      },
      "source": [
        "!unzip /content/3_1_linear-regression-practical-example-part-1-dataset(1).zip"
      ],
      "execution_count": 2,
      "outputs": [
        {
          "output_type": "stream",
          "name": "stdout",
          "text": [
            "/bin/bash: -c: line 0: syntax error near unexpected token `('\n",
            "/bin/bash: -c: line 0: `unzip /content/3_1_linear-regression-practical-example-part-1-dataset(1).zip'\n"
          ]
        }
      ]
    },
    {
      "cell_type": "markdown",
      "metadata": {
        "id": "sj-vkddjN3XI"
      },
      "source": [
        "#Reading and checking data"
      ]
    },
    {
      "cell_type": "code",
      "metadata": {
        "id": "meuAKX4BPZ9X"
      },
      "source": [
        "data=pd.read_csv('/content/3_1_linear-regression-practical-example-part-1-dataset (1).zip')"
      ],
      "execution_count": 3,
      "outputs": []
    },
    {
      "cell_type": "code",
      "metadata": {
        "colab": {
          "base_uri": "https://localhost:8080/",
          "height": 419
        },
        "id": "d-cvabMePfZM",
        "outputId": "f9a8c8b1-c73f-4dae-d75b-7062ea846e31"
      },
      "source": [
        "data"
      ],
      "execution_count": 4,
      "outputs": [
        {
          "output_type": "execute_result",
          "data": {
            "text/html": [
              "<div>\n",
              "<style scoped>\n",
              "    .dataframe tbody tr th:only-of-type {\n",
              "        vertical-align: middle;\n",
              "    }\n",
              "\n",
              "    .dataframe tbody tr th {\n",
              "        vertical-align: top;\n",
              "    }\n",
              "\n",
              "    .dataframe thead th {\n",
              "        text-align: right;\n",
              "    }\n",
              "</style>\n",
              "<table border=\"1\" class=\"dataframe\">\n",
              "  <thead>\n",
              "    <tr style=\"text-align: right;\">\n",
              "      <th></th>\n",
              "      <th>Brand</th>\n",
              "      <th>Price</th>\n",
              "      <th>Body</th>\n",
              "      <th>Mileage</th>\n",
              "      <th>EngineV</th>\n",
              "      <th>Engine Type</th>\n",
              "      <th>Registration</th>\n",
              "      <th>Year</th>\n",
              "      <th>Model</th>\n",
              "    </tr>\n",
              "  </thead>\n",
              "  <tbody>\n",
              "    <tr>\n",
              "      <th>0</th>\n",
              "      <td>BMW</td>\n",
              "      <td>4200.0</td>\n",
              "      <td>sedan</td>\n",
              "      <td>277</td>\n",
              "      <td>2.0</td>\n",
              "      <td>Petrol</td>\n",
              "      <td>yes</td>\n",
              "      <td>1991</td>\n",
              "      <td>320</td>\n",
              "    </tr>\n",
              "    <tr>\n",
              "      <th>1</th>\n",
              "      <td>Mercedes-Benz</td>\n",
              "      <td>7900.0</td>\n",
              "      <td>van</td>\n",
              "      <td>427</td>\n",
              "      <td>2.9</td>\n",
              "      <td>Diesel</td>\n",
              "      <td>yes</td>\n",
              "      <td>1999</td>\n",
              "      <td>Sprinter 212</td>\n",
              "    </tr>\n",
              "    <tr>\n",
              "      <th>2</th>\n",
              "      <td>Mercedes-Benz</td>\n",
              "      <td>13300.0</td>\n",
              "      <td>sedan</td>\n",
              "      <td>358</td>\n",
              "      <td>5.0</td>\n",
              "      <td>Gas</td>\n",
              "      <td>yes</td>\n",
              "      <td>2003</td>\n",
              "      <td>S 500</td>\n",
              "    </tr>\n",
              "    <tr>\n",
              "      <th>3</th>\n",
              "      <td>Audi</td>\n",
              "      <td>23000.0</td>\n",
              "      <td>crossover</td>\n",
              "      <td>240</td>\n",
              "      <td>4.2</td>\n",
              "      <td>Petrol</td>\n",
              "      <td>yes</td>\n",
              "      <td>2007</td>\n",
              "      <td>Q7</td>\n",
              "    </tr>\n",
              "    <tr>\n",
              "      <th>4</th>\n",
              "      <td>Toyota</td>\n",
              "      <td>18300.0</td>\n",
              "      <td>crossover</td>\n",
              "      <td>120</td>\n",
              "      <td>2.0</td>\n",
              "      <td>Petrol</td>\n",
              "      <td>yes</td>\n",
              "      <td>2011</td>\n",
              "      <td>Rav 4</td>\n",
              "    </tr>\n",
              "    <tr>\n",
              "      <th>...</th>\n",
              "      <td>...</td>\n",
              "      <td>...</td>\n",
              "      <td>...</td>\n",
              "      <td>...</td>\n",
              "      <td>...</td>\n",
              "      <td>...</td>\n",
              "      <td>...</td>\n",
              "      <td>...</td>\n",
              "      <td>...</td>\n",
              "    </tr>\n",
              "    <tr>\n",
              "      <th>4340</th>\n",
              "      <td>Mercedes-Benz</td>\n",
              "      <td>125000.0</td>\n",
              "      <td>sedan</td>\n",
              "      <td>9</td>\n",
              "      <td>3.0</td>\n",
              "      <td>Diesel</td>\n",
              "      <td>yes</td>\n",
              "      <td>2014</td>\n",
              "      <td>S 350</td>\n",
              "    </tr>\n",
              "    <tr>\n",
              "      <th>4341</th>\n",
              "      <td>BMW</td>\n",
              "      <td>6500.0</td>\n",
              "      <td>sedan</td>\n",
              "      <td>1</td>\n",
              "      <td>3.5</td>\n",
              "      <td>Petrol</td>\n",
              "      <td>yes</td>\n",
              "      <td>1999</td>\n",
              "      <td>535</td>\n",
              "    </tr>\n",
              "    <tr>\n",
              "      <th>4342</th>\n",
              "      <td>BMW</td>\n",
              "      <td>8000.0</td>\n",
              "      <td>sedan</td>\n",
              "      <td>194</td>\n",
              "      <td>2.0</td>\n",
              "      <td>Petrol</td>\n",
              "      <td>yes</td>\n",
              "      <td>1985</td>\n",
              "      <td>520</td>\n",
              "    </tr>\n",
              "    <tr>\n",
              "      <th>4343</th>\n",
              "      <td>Toyota</td>\n",
              "      <td>14200.0</td>\n",
              "      <td>sedan</td>\n",
              "      <td>31</td>\n",
              "      <td>NaN</td>\n",
              "      <td>Petrol</td>\n",
              "      <td>yes</td>\n",
              "      <td>2014</td>\n",
              "      <td>Corolla</td>\n",
              "    </tr>\n",
              "    <tr>\n",
              "      <th>4344</th>\n",
              "      <td>Volkswagen</td>\n",
              "      <td>13500.0</td>\n",
              "      <td>van</td>\n",
              "      <td>124</td>\n",
              "      <td>2.0</td>\n",
              "      <td>Diesel</td>\n",
              "      <td>yes</td>\n",
              "      <td>2013</td>\n",
              "      <td>T5 (Transporter)</td>\n",
              "    </tr>\n",
              "  </tbody>\n",
              "</table>\n",
              "<p>4345 rows × 9 columns</p>\n",
              "</div>"
            ],
            "text/plain": [
              "              Brand     Price       Body  ...  Registration  Year              Model\n",
              "0               BMW    4200.0      sedan  ...           yes  1991                320\n",
              "1     Mercedes-Benz    7900.0        van  ...           yes  1999       Sprinter 212\n",
              "2     Mercedes-Benz   13300.0      sedan  ...           yes  2003              S 500\n",
              "3              Audi   23000.0  crossover  ...           yes  2007                 Q7\n",
              "4            Toyota   18300.0  crossover  ...           yes  2011              Rav 4\n",
              "...             ...       ...        ...  ...           ...   ...                ...\n",
              "4340  Mercedes-Benz  125000.0      sedan  ...           yes  2014              S 350\n",
              "4341            BMW    6500.0      sedan  ...           yes  1999                535\n",
              "4342            BMW    8000.0      sedan  ...           yes  1985                520\n",
              "4343         Toyota   14200.0      sedan  ...           yes  2014            Corolla\n",
              "4344     Volkswagen   13500.0        van  ...           yes  2013  T5 (Transporter) \n",
              "\n",
              "[4345 rows x 9 columns]"
            ]
          },
          "metadata": {},
          "execution_count": 4
        }
      ]
    },
    {
      "cell_type": "code",
      "metadata": {
        "colab": {
          "base_uri": "https://localhost:8080/",
          "height": 297
        },
        "id": "gcd0g1t8PghZ",
        "outputId": "806dfd1e-8472-4929-f1c9-7ffd84ef4bff"
      },
      "source": [
        "data.describe()"
      ],
      "execution_count": 5,
      "outputs": [
        {
          "output_type": "execute_result",
          "data": {
            "text/html": [
              "<div>\n",
              "<style scoped>\n",
              "    .dataframe tbody tr th:only-of-type {\n",
              "        vertical-align: middle;\n",
              "    }\n",
              "\n",
              "    .dataframe tbody tr th {\n",
              "        vertical-align: top;\n",
              "    }\n",
              "\n",
              "    .dataframe thead th {\n",
              "        text-align: right;\n",
              "    }\n",
              "</style>\n",
              "<table border=\"1\" class=\"dataframe\">\n",
              "  <thead>\n",
              "    <tr style=\"text-align: right;\">\n",
              "      <th></th>\n",
              "      <th>Price</th>\n",
              "      <th>Mileage</th>\n",
              "      <th>EngineV</th>\n",
              "      <th>Year</th>\n",
              "    </tr>\n",
              "  </thead>\n",
              "  <tbody>\n",
              "    <tr>\n",
              "      <th>count</th>\n",
              "      <td>4173.000000</td>\n",
              "      <td>4345.000000</td>\n",
              "      <td>4195.000000</td>\n",
              "      <td>4345.000000</td>\n",
              "    </tr>\n",
              "    <tr>\n",
              "      <th>mean</th>\n",
              "      <td>19418.746935</td>\n",
              "      <td>161.237284</td>\n",
              "      <td>2.790734</td>\n",
              "      <td>2006.550058</td>\n",
              "    </tr>\n",
              "    <tr>\n",
              "      <th>std</th>\n",
              "      <td>25584.242620</td>\n",
              "      <td>105.705797</td>\n",
              "      <td>5.066437</td>\n",
              "      <td>6.719097</td>\n",
              "    </tr>\n",
              "    <tr>\n",
              "      <th>min</th>\n",
              "      <td>600.000000</td>\n",
              "      <td>0.000000</td>\n",
              "      <td>0.600000</td>\n",
              "      <td>1969.000000</td>\n",
              "    </tr>\n",
              "    <tr>\n",
              "      <th>25%</th>\n",
              "      <td>6999.000000</td>\n",
              "      <td>86.000000</td>\n",
              "      <td>1.800000</td>\n",
              "      <td>2003.000000</td>\n",
              "    </tr>\n",
              "    <tr>\n",
              "      <th>50%</th>\n",
              "      <td>11500.000000</td>\n",
              "      <td>155.000000</td>\n",
              "      <td>2.200000</td>\n",
              "      <td>2008.000000</td>\n",
              "    </tr>\n",
              "    <tr>\n",
              "      <th>75%</th>\n",
              "      <td>21700.000000</td>\n",
              "      <td>230.000000</td>\n",
              "      <td>3.000000</td>\n",
              "      <td>2012.000000</td>\n",
              "    </tr>\n",
              "    <tr>\n",
              "      <th>max</th>\n",
              "      <td>300000.000000</td>\n",
              "      <td>980.000000</td>\n",
              "      <td>99.990000</td>\n",
              "      <td>2016.000000</td>\n",
              "    </tr>\n",
              "  </tbody>\n",
              "</table>\n",
              "</div>"
            ],
            "text/plain": [
              "               Price      Mileage      EngineV         Year\n",
              "count    4173.000000  4345.000000  4195.000000  4345.000000\n",
              "mean    19418.746935   161.237284     2.790734  2006.550058\n",
              "std     25584.242620   105.705797     5.066437     6.719097\n",
              "min       600.000000     0.000000     0.600000  1969.000000\n",
              "25%      6999.000000    86.000000     1.800000  2003.000000\n",
              "50%     11500.000000   155.000000     2.200000  2008.000000\n",
              "75%     21700.000000   230.000000     3.000000  2012.000000\n",
              "max    300000.000000   980.000000    99.990000  2016.000000"
            ]
          },
          "metadata": {},
          "execution_count": 5
        }
      ]
    },
    {
      "cell_type": "markdown",
      "metadata": {
        "id": "v0FXcdAF4u7a"
      },
      "source": [
        "# Cleaning Data"
      ]
    },
    {
      "cell_type": "markdown",
      "metadata": {
        "id": "igETeoyc40_C"
      },
      "source": [
        "Since Model name is irrelevant to our process we will be dropping it."
      ]
    },
    {
      "cell_type": "code",
      "metadata": {
        "id": "2A7MdLqKQTh7"
      },
      "source": [
        "data=data.drop(columns=['Model'])"
      ],
      "execution_count": 6,
      "outputs": []
    },
    {
      "cell_type": "markdown",
      "metadata": {
        "id": "-VT7ASsd5BuG"
      },
      "source": [
        "Now, we check for N/As."
      ]
    },
    {
      "cell_type": "code",
      "metadata": {
        "colab": {
          "base_uri": "https://localhost:8080/"
        },
        "id": "CFhATEJSPp6L",
        "outputId": "e692aef8-dc1f-4e4d-c0ab-8d7358d19e76"
      },
      "source": [
        "#Data before dropping NAs\n",
        "data.isna().sum()"
      ],
      "execution_count": 7,
      "outputs": [
        {
          "output_type": "execute_result",
          "data": {
            "text/plain": [
              "Brand             0\n",
              "Price           172\n",
              "Body              0\n",
              "Mileage           0\n",
              "EngineV         150\n",
              "Engine Type       0\n",
              "Registration      0\n",
              "Year              0\n",
              "dtype: int64"
            ]
          },
          "metadata": {},
          "execution_count": 7
        }
      ]
    },
    {
      "cell_type": "code",
      "metadata": {
        "colab": {
          "base_uri": "https://localhost:8080/"
        },
        "id": "0nkAcMlXP8S7",
        "outputId": "48d9feb4-6b08-4568-c91c-df0772be95cc"
      },
      "source": [
        "data=data.dropna(axis=0,subset=['Price','EngineV'])\n",
        "#Data after dropping NAs\n",
        "data.isna().sum()"
      ],
      "execution_count": 8,
      "outputs": [
        {
          "output_type": "execute_result",
          "data": {
            "text/plain": [
              "Brand           0\n",
              "Price           0\n",
              "Body            0\n",
              "Mileage         0\n",
              "EngineV         0\n",
              "Engine Type     0\n",
              "Registration    0\n",
              "Year            0\n",
              "dtype: int64"
            ]
          },
          "metadata": {},
          "execution_count": 8
        }
      ]
    },
    {
      "cell_type": "markdown",
      "metadata": {
        "id": "4t06E76Y5fXE"
      },
      "source": [
        "#Preparing Data and Creating Dummies"
      ]
    },
    {
      "cell_type": "markdown",
      "metadata": {
        "id": "Te1KApaQ5mxC"
      },
      "source": [
        "Brand and Engine type are categorical data. We will create dummies for them."
      ]
    },
    {
      "cell_type": "code",
      "metadata": {
        "colab": {
          "base_uri": "https://localhost:8080/"
        },
        "id": "iKqg7yZ3SZLw",
        "outputId": "cac69785-a8c8-4f8b-c076-361553a12bee"
      },
      "source": [
        "#Car brands included in dataset.\n",
        "data['Brand'].value_counts()"
      ],
      "execution_count": 9,
      "outputs": [
        {
          "output_type": "execute_result",
          "data": {
            "text/plain": [
              "Volkswagen       880\n",
              "Mercedes-Benz    823\n",
              "BMW              640\n",
              "Toyota           510\n",
              "Renault          445\n",
              "Audi             420\n",
              "Mitsubishi       307\n",
              "Name: Brand, dtype: int64"
            ]
          },
          "metadata": {},
          "execution_count": 9
        }
      ]
    },
    {
      "cell_type": "code",
      "metadata": {
        "colab": {
          "base_uri": "https://localhost:8080/"
        },
        "id": "tUlyvTSsWkQj",
        "outputId": "16867c4e-f1d8-4a88-d1fc-6ddf679eb7a9"
      },
      "source": [
        "#Engine types we have in data.\n",
        "data['Engine Type'].value_counts()"
      ],
      "execution_count": 10,
      "outputs": [
        {
          "output_type": "execute_result",
          "data": {
            "text/plain": [
              "Diesel    1861\n",
              "Petrol    1468\n",
              "Gas        590\n",
              "Other      106\n",
              "Name: Engine Type, dtype: int64"
            ]
          },
          "metadata": {},
          "execution_count": 10
        }
      ]
    },
    {
      "cell_type": "markdown",
      "metadata": {
        "id": "AgLc6qb9544D"
      },
      "source": [
        "Now, we create dummies."
      ]
    },
    {
      "cell_type": "code",
      "metadata": {
        "colab": {
          "base_uri": "https://localhost:8080/",
          "height": 0
        },
        "id": "7ImBpSGrRs_z",
        "outputId": "ef0847fe-0893-4536-9b2a-90e3555e2ab4"
      },
      "source": [
        "data=pd.get_dummies(data,drop_first=True)\n",
        "data"
      ],
      "execution_count": 11,
      "outputs": [
        {
          "output_type": "execute_result",
          "data": {
            "text/html": [
              "<div>\n",
              "<style scoped>\n",
              "    .dataframe tbody tr th:only-of-type {\n",
              "        vertical-align: middle;\n",
              "    }\n",
              "\n",
              "    .dataframe tbody tr th {\n",
              "        vertical-align: top;\n",
              "    }\n",
              "\n",
              "    .dataframe thead th {\n",
              "        text-align: right;\n",
              "    }\n",
              "</style>\n",
              "<table border=\"1\" class=\"dataframe\">\n",
              "  <thead>\n",
              "    <tr style=\"text-align: right;\">\n",
              "      <th></th>\n",
              "      <th>Price</th>\n",
              "      <th>Mileage</th>\n",
              "      <th>EngineV</th>\n",
              "      <th>Year</th>\n",
              "      <th>Brand_BMW</th>\n",
              "      <th>Brand_Mercedes-Benz</th>\n",
              "      <th>Brand_Mitsubishi</th>\n",
              "      <th>Brand_Renault</th>\n",
              "      <th>Brand_Toyota</th>\n",
              "      <th>Brand_Volkswagen</th>\n",
              "      <th>Body_hatch</th>\n",
              "      <th>Body_other</th>\n",
              "      <th>Body_sedan</th>\n",
              "      <th>Body_vagon</th>\n",
              "      <th>Body_van</th>\n",
              "      <th>Engine Type_Gas</th>\n",
              "      <th>Engine Type_Other</th>\n",
              "      <th>Engine Type_Petrol</th>\n",
              "      <th>Registration_yes</th>\n",
              "    </tr>\n",
              "  </thead>\n",
              "  <tbody>\n",
              "    <tr>\n",
              "      <th>0</th>\n",
              "      <td>4200.0</td>\n",
              "      <td>277</td>\n",
              "      <td>2.0</td>\n",
              "      <td>1991</td>\n",
              "      <td>1</td>\n",
              "      <td>0</td>\n",
              "      <td>0</td>\n",
              "      <td>0</td>\n",
              "      <td>0</td>\n",
              "      <td>0</td>\n",
              "      <td>0</td>\n",
              "      <td>0</td>\n",
              "      <td>1</td>\n",
              "      <td>0</td>\n",
              "      <td>0</td>\n",
              "      <td>0</td>\n",
              "      <td>0</td>\n",
              "      <td>1</td>\n",
              "      <td>1</td>\n",
              "    </tr>\n",
              "    <tr>\n",
              "      <th>1</th>\n",
              "      <td>7900.0</td>\n",
              "      <td>427</td>\n",
              "      <td>2.9</td>\n",
              "      <td>1999</td>\n",
              "      <td>0</td>\n",
              "      <td>1</td>\n",
              "      <td>0</td>\n",
              "      <td>0</td>\n",
              "      <td>0</td>\n",
              "      <td>0</td>\n",
              "      <td>0</td>\n",
              "      <td>0</td>\n",
              "      <td>0</td>\n",
              "      <td>0</td>\n",
              "      <td>1</td>\n",
              "      <td>0</td>\n",
              "      <td>0</td>\n",
              "      <td>0</td>\n",
              "      <td>1</td>\n",
              "    </tr>\n",
              "    <tr>\n",
              "      <th>2</th>\n",
              "      <td>13300.0</td>\n",
              "      <td>358</td>\n",
              "      <td>5.0</td>\n",
              "      <td>2003</td>\n",
              "      <td>0</td>\n",
              "      <td>1</td>\n",
              "      <td>0</td>\n",
              "      <td>0</td>\n",
              "      <td>0</td>\n",
              "      <td>0</td>\n",
              "      <td>0</td>\n",
              "      <td>0</td>\n",
              "      <td>1</td>\n",
              "      <td>0</td>\n",
              "      <td>0</td>\n",
              "      <td>1</td>\n",
              "      <td>0</td>\n",
              "      <td>0</td>\n",
              "      <td>1</td>\n",
              "    </tr>\n",
              "    <tr>\n",
              "      <th>3</th>\n",
              "      <td>23000.0</td>\n",
              "      <td>240</td>\n",
              "      <td>4.2</td>\n",
              "      <td>2007</td>\n",
              "      <td>0</td>\n",
              "      <td>0</td>\n",
              "      <td>0</td>\n",
              "      <td>0</td>\n",
              "      <td>0</td>\n",
              "      <td>0</td>\n",
              "      <td>0</td>\n",
              "      <td>0</td>\n",
              "      <td>0</td>\n",
              "      <td>0</td>\n",
              "      <td>0</td>\n",
              "      <td>0</td>\n",
              "      <td>0</td>\n",
              "      <td>1</td>\n",
              "      <td>1</td>\n",
              "    </tr>\n",
              "    <tr>\n",
              "      <th>4</th>\n",
              "      <td>18300.0</td>\n",
              "      <td>120</td>\n",
              "      <td>2.0</td>\n",
              "      <td>2011</td>\n",
              "      <td>0</td>\n",
              "      <td>0</td>\n",
              "      <td>0</td>\n",
              "      <td>0</td>\n",
              "      <td>1</td>\n",
              "      <td>0</td>\n",
              "      <td>0</td>\n",
              "      <td>0</td>\n",
              "      <td>0</td>\n",
              "      <td>0</td>\n",
              "      <td>0</td>\n",
              "      <td>0</td>\n",
              "      <td>0</td>\n",
              "      <td>1</td>\n",
              "      <td>1</td>\n",
              "    </tr>\n",
              "    <tr>\n",
              "      <th>...</th>\n",
              "      <td>...</td>\n",
              "      <td>...</td>\n",
              "      <td>...</td>\n",
              "      <td>...</td>\n",
              "      <td>...</td>\n",
              "      <td>...</td>\n",
              "      <td>...</td>\n",
              "      <td>...</td>\n",
              "      <td>...</td>\n",
              "      <td>...</td>\n",
              "      <td>...</td>\n",
              "      <td>...</td>\n",
              "      <td>...</td>\n",
              "      <td>...</td>\n",
              "      <td>...</td>\n",
              "      <td>...</td>\n",
              "      <td>...</td>\n",
              "      <td>...</td>\n",
              "      <td>...</td>\n",
              "    </tr>\n",
              "    <tr>\n",
              "      <th>4339</th>\n",
              "      <td>17900.0</td>\n",
              "      <td>35</td>\n",
              "      <td>1.6</td>\n",
              "      <td>2014</td>\n",
              "      <td>0</td>\n",
              "      <td>0</td>\n",
              "      <td>0</td>\n",
              "      <td>0</td>\n",
              "      <td>1</td>\n",
              "      <td>0</td>\n",
              "      <td>0</td>\n",
              "      <td>0</td>\n",
              "      <td>1</td>\n",
              "      <td>0</td>\n",
              "      <td>0</td>\n",
              "      <td>0</td>\n",
              "      <td>0</td>\n",
              "      <td>1</td>\n",
              "      <td>1</td>\n",
              "    </tr>\n",
              "    <tr>\n",
              "      <th>4340</th>\n",
              "      <td>125000.0</td>\n",
              "      <td>9</td>\n",
              "      <td>3.0</td>\n",
              "      <td>2014</td>\n",
              "      <td>0</td>\n",
              "      <td>1</td>\n",
              "      <td>0</td>\n",
              "      <td>0</td>\n",
              "      <td>0</td>\n",
              "      <td>0</td>\n",
              "      <td>0</td>\n",
              "      <td>0</td>\n",
              "      <td>1</td>\n",
              "      <td>0</td>\n",
              "      <td>0</td>\n",
              "      <td>0</td>\n",
              "      <td>0</td>\n",
              "      <td>0</td>\n",
              "      <td>1</td>\n",
              "    </tr>\n",
              "    <tr>\n",
              "      <th>4341</th>\n",
              "      <td>6500.0</td>\n",
              "      <td>1</td>\n",
              "      <td>3.5</td>\n",
              "      <td>1999</td>\n",
              "      <td>1</td>\n",
              "      <td>0</td>\n",
              "      <td>0</td>\n",
              "      <td>0</td>\n",
              "      <td>0</td>\n",
              "      <td>0</td>\n",
              "      <td>0</td>\n",
              "      <td>0</td>\n",
              "      <td>1</td>\n",
              "      <td>0</td>\n",
              "      <td>0</td>\n",
              "      <td>0</td>\n",
              "      <td>0</td>\n",
              "      <td>1</td>\n",
              "      <td>1</td>\n",
              "    </tr>\n",
              "    <tr>\n",
              "      <th>4342</th>\n",
              "      <td>8000.0</td>\n",
              "      <td>194</td>\n",
              "      <td>2.0</td>\n",
              "      <td>1985</td>\n",
              "      <td>1</td>\n",
              "      <td>0</td>\n",
              "      <td>0</td>\n",
              "      <td>0</td>\n",
              "      <td>0</td>\n",
              "      <td>0</td>\n",
              "      <td>0</td>\n",
              "      <td>0</td>\n",
              "      <td>1</td>\n",
              "      <td>0</td>\n",
              "      <td>0</td>\n",
              "      <td>0</td>\n",
              "      <td>0</td>\n",
              "      <td>1</td>\n",
              "      <td>1</td>\n",
              "    </tr>\n",
              "    <tr>\n",
              "      <th>4344</th>\n",
              "      <td>13500.0</td>\n",
              "      <td>124</td>\n",
              "      <td>2.0</td>\n",
              "      <td>2013</td>\n",
              "      <td>0</td>\n",
              "      <td>0</td>\n",
              "      <td>0</td>\n",
              "      <td>0</td>\n",
              "      <td>0</td>\n",
              "      <td>1</td>\n",
              "      <td>0</td>\n",
              "      <td>0</td>\n",
              "      <td>0</td>\n",
              "      <td>0</td>\n",
              "      <td>1</td>\n",
              "      <td>0</td>\n",
              "      <td>0</td>\n",
              "      <td>0</td>\n",
              "      <td>1</td>\n",
              "    </tr>\n",
              "  </tbody>\n",
              "</table>\n",
              "<p>4025 rows × 19 columns</p>\n",
              "</div>"
            ],
            "text/plain": [
              "         Price  Mileage  ...  Engine Type_Petrol  Registration_yes\n",
              "0       4200.0      277  ...                   1                 1\n",
              "1       7900.0      427  ...                   0                 1\n",
              "2      13300.0      358  ...                   0                 1\n",
              "3      23000.0      240  ...                   1                 1\n",
              "4      18300.0      120  ...                   1                 1\n",
              "...        ...      ...  ...                 ...               ...\n",
              "4339   17900.0       35  ...                   1                 1\n",
              "4340  125000.0        9  ...                   0                 1\n",
              "4341    6500.0        1  ...                   1                 1\n",
              "4342    8000.0      194  ...                   1                 1\n",
              "4344   13500.0      124  ...                   0                 1\n",
              "\n",
              "[4025 rows x 19 columns]"
            ]
          },
          "metadata": {},
          "execution_count": 11
        }
      ]
    },
    {
      "cell_type": "markdown",
      "metadata": {
        "id": "JsfwmJpD59Zc"
      },
      "source": [
        "#Checking distribution functions\n",
        "We look for outlier samples to drop them."
      ]
    },
    {
      "cell_type": "code",
      "metadata": {
        "colab": {
          "base_uri": "https://localhost:8080/",
          "height": 0
        },
        "id": "q5jeA6XVWu2u",
        "outputId": "1262a32e-81e2-48d5-f2c7-f0bb1305bf7c"
      },
      "source": [
        "sns.distplot(data['Price'])\n"
      ],
      "execution_count": 12,
      "outputs": [
        {
          "output_type": "stream",
          "name": "stderr",
          "text": [
            "/usr/local/lib/python3.7/dist-packages/seaborn/distributions.py:2619: FutureWarning: `distplot` is a deprecated function and will be removed in a future version. Please adapt your code to use either `displot` (a figure-level function with similar flexibility) or `histplot` (an axes-level function for histograms).\n",
            "  warnings.warn(msg, FutureWarning)\n"
          ]
        },
        {
          "output_type": "execute_result",
          "data": {
            "text/plain": [
              "<matplotlib.axes._subplots.AxesSubplot at 0x7fadffbcdfd0>"
            ]
          },
          "metadata": {},
          "execution_count": 12
        },
        {
          "output_type": "display_data",
          "data": {
            "image/png": "[encoded data removed]",
            "text/plain": [
              "<Figure size 432x288 with 1 Axes>"
            ]
          },
          "metadata": {
            "needs_background": "light"
          }
        }
      ]
    },
    {
      "cell_type": "markdown",
      "metadata": {
        "id": "fniYpOET6BDN"
      },
      "source": [
        "We notice that we have a positive tail, so we will drop highest 1% of prices."
      ]
    },
    {
      "cell_type": "code",
      "metadata": {
        "colab": {
          "base_uri": "https://localhost:8080/",
          "height": 0
        },
        "id": "hW4y7pwHa0Jj",
        "outputId": "fd688e7e-14f8-4c0e-a68f-8a069cf0b67b"
      },
      "source": [
        "q=data['Price'].quantile(0.99)\n",
        "data=data[data['Price']<q]\n",
        "sns.distplot(data['Price'])"
      ],
      "execution_count": 13,
      "outputs": [
        {
          "output_type": "stream",
          "name": "stderr",
          "text": [
            "/usr/local/lib/python3.7/dist-packages/seaborn/distributions.py:2619: FutureWarning: `distplot` is a deprecated function and will be removed in a future version. Please adapt your code to use either `displot` (a figure-level function with similar flexibility) or `histplot` (an axes-level function for histograms).\n",
            "  warnings.warn(msg, FutureWarning)\n"
          ]
        },
        {
          "output_type": "execute_result",
          "data": {
            "text/plain": [
              "<matplotlib.axes._subplots.AxesSubplot at 0x7fadffa40390>"
            ]
          },
          "metadata": {},
          "execution_count": 13
        },
        {
          "output_type": "display_data",
          "data": {
            "image/png": "[encoded data removed]",
            "text/plain": [
              "<Figure size 432x288 with 1 Axes>"
            ]
          },
          "metadata": {
            "needs_background": "light"
          }
        }
      ]
    },
    {
      "cell_type": "markdown",
      "metadata": {
        "id": "Fz1EOeKI601r"
      },
      "source": [
        "We do the same with Mileage."
      ]
    },
    {
      "cell_type": "code",
      "metadata": {
        "colab": {
          "base_uri": "https://localhost:8080/",
          "height": 0
        },
        "id": "kA8a0wpsoa4F",
        "outputId": "d266a5ec-ee0c-45ce-a0c1-d4451d4f4b7b"
      },
      "source": [
        "sns.distplot(data['Mileage'])\n"
      ],
      "execution_count": 14,
      "outputs": [
        {
          "output_type": "stream",
          "name": "stderr",
          "text": [
            "/usr/local/lib/python3.7/dist-packages/seaborn/distributions.py:2619: FutureWarning: `distplot` is a deprecated function and will be removed in a future version. Please adapt your code to use either `displot` (a figure-level function with similar flexibility) or `histplot` (an axes-level function for histograms).\n",
            "  warnings.warn(msg, FutureWarning)\n"
          ]
        },
        {
          "output_type": "execute_result",
          "data": {
            "text/plain": [
              "<matplotlib.axes._subplots.AxesSubplot at 0x7fadff51cb10>"
            ]
          },
          "metadata": {},
          "execution_count": 14
        },
        {
          "output_type": "display_data",
          "data": {
            "image/png": "[encoded data removed]",
            "text/plain": [
              "<Figure size 432x288 with 1 Axes>"
            ]
          },
          "metadata": {
            "needs_background": "light"
          }
        }
      ]
    },
    {
      "cell_type": "code",
      "metadata": {
        "colab": {
          "base_uri": "https://localhost:8080/",
          "height": 0
        },
        "id": "sGNR6-yEohPa",
        "outputId": "285face7-a736-401a-cb2b-d5622d336b6b"
      },
      "source": [
        "q=data['Mileage'].quantile(0.99)\n",
        "data=data[data['Mileage']<q]\n",
        "sns.distplot(data['Mileage'])"
      ],
      "execution_count": 15,
      "outputs": [
        {
          "output_type": "stream",
          "name": "stderr",
          "text": [
            "/usr/local/lib/python3.7/dist-packages/seaborn/distributions.py:2619: FutureWarning: `distplot` is a deprecated function and will be removed in a future version. Please adapt your code to use either `displot` (a figure-level function with similar flexibility) or `histplot` (an axes-level function for histograms).\n",
            "  warnings.warn(msg, FutureWarning)\n"
          ]
        },
        {
          "output_type": "execute_result",
          "data": {
            "text/plain": [
              "<matplotlib.axes._subplots.AxesSubplot at 0x7fadff402710>"
            ]
          },
          "metadata": {},
          "execution_count": 15
        },
        {
          "output_type": "display_data",
          "data": {
            "image/png": "[encoded data removed]",
            "text/plain": [
              "<Figure size 432x288 with 1 Axes>"
            ]
          },
          "metadata": {
            "needs_background": "light"
          }
        }
      ]
    },
    {
      "cell_type": "markdown",
      "metadata": {
        "id": "KZyNeGuT7CZW"
      },
      "source": [
        "Now we plot every input in respect to prices."
      ]
    },
    {
      "cell_type": "code",
      "metadata": {
        "colab": {
          "base_uri": "https://localhost:8080/",
          "height": 0
        },
        "id": "9DzLFuCKfraK",
        "outputId": "3f1bd376-5beb-4dd2-8569-a40ce95fbfee"
      },
      "source": [
        "f, (ax1, ax2, ax3)= plt.subplots(1,3,sharey=True, figsize=(15,3))\n",
        "ax1.scatter(data['Year'],data['Price'])\n",
        "ax2.scatter(data['Mileage'],data['Price'])\n",
        "ax3.scatter(data['EngineV'],data['Price'])\n",
        "plt.show()"
      ],
      "execution_count": 16,
      "outputs": [
        {
          "output_type": "display_data",
          "data": {
            "image/png": "[encoded data removed]",
            "text/plain": [
              "<Figure size 1080x216 with 3 Axes>"
            ]
          },
          "metadata": {
            "needs_background": "light"
          }
        }
      ]
    },
    {
      "cell_type": "markdown",
      "metadata": {
        "id": "wFsPfsQr7PjW"
      },
      "source": [
        "We notice that Year and Mileage look like Log plots. That's why we will convert prices into logs. We also notice that there's something wrong with EngineV. After googling some info about Engine Volume we notice that most Engines have volume are around 7. So first of all we drop any sample which has EV>7."
      ]
    },
    {
      "cell_type": "code",
      "metadata": {
        "colab": {
          "base_uri": "https://localhost:8080/",
          "height": 0
        },
        "id": "PmZlBUSio0ed",
        "outputId": "7d2e357c-7c17-4912-f07c-c7efde457313"
      },
      "source": [
        "data=data[data['EngineV'] < 7]\n",
        "plt.scatter(data['EngineV'],data['Price'])\n"
      ],
      "execution_count": 17,
      "outputs": [
        {
          "output_type": "execute_result",
          "data": {
            "text/plain": [
              "<matplotlib.collections.PathCollection at 0x7fadff1afd10>"
            ]
          },
          "metadata": {},
          "execution_count": 17
        },
        {
          "output_type": "display_data",
          "data": {
            "image/png": "[encoded data removed]",
            "text/plain": [
              "<Figure size 432x288 with 1 Axes>"
            ]
          },
          "metadata": {
            "needs_background": "light"
          }
        }
      ]
    },
    {
      "cell_type": "markdown",
      "metadata": {
        "id": "X-mUYvSY8Qf9"
      },
      "source": [
        "Then we convert prices into logs."
      ]
    },
    {
      "cell_type": "code",
      "metadata": {
        "id": "JoFOojUJhDSn"
      },
      "source": [
        "data['log_price']=np.log(data['Price'])"
      ],
      "execution_count": 18,
      "outputs": []
    },
    {
      "cell_type": "code",
      "metadata": {
        "colab": {
          "base_uri": "https://localhost:8080/"
        },
        "id": "KWcPcPnAiop5",
        "outputId": "41b05b9b-97db-4ee6-ebe1-e4be2c46347c"
      },
      "source": [
        "data['log_price']"
      ],
      "execution_count": 19,
      "outputs": [
        {
          "output_type": "execute_result",
          "data": {
            "text/plain": [
              "0        8.342840\n",
              "1        8.974618\n",
              "2        9.495519\n",
              "3       10.043249\n",
              "4        9.814656\n",
              "          ...    \n",
              "4339     9.792556\n",
              "4340    11.736069\n",
              "4341     8.779557\n",
              "4342     8.987197\n",
              "4344     9.510445\n",
              "Name: log_price, Length: 3922, dtype: float64"
            ]
          },
          "metadata": {},
          "execution_count": 19
        }
      ]
    },
    {
      "cell_type": "code",
      "metadata": {
        "colab": {
          "base_uri": "https://localhost:8080/"
        },
        "id": "MN0bff1IjK2j",
        "outputId": "a02ff420-d888-44a6-d09a-dbb6c2b1eb0c"
      },
      "source": [
        "data['Year']"
      ],
      "execution_count": 20,
      "outputs": [
        {
          "output_type": "execute_result",
          "data": {
            "text/plain": [
              "0       1991\n",
              "1       1999\n",
              "2       2003\n",
              "3       2007\n",
              "4       2011\n",
              "        ... \n",
              "4339    2014\n",
              "4340    2014\n",
              "4341    1999\n",
              "4342    1985\n",
              "4344    2013\n",
              "Name: Year, Length: 3922, dtype: int64"
            ]
          },
          "metadata": {},
          "execution_count": 20
        }
      ]
    },
    {
      "cell_type": "markdown",
      "metadata": {
        "id": "LQg6Ay3tAzIu"
      },
      "source": [
        "Conversion successful! :D"
      ]
    },
    {
      "cell_type": "markdown",
      "metadata": {
        "id": "7oxxPLRiBQQ7"
      },
      "source": [
        "![XJyemeI.jpg](data:image/jpeg;base64,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)"
      ]
    },
    {
      "cell_type": "markdown",
      "metadata": {
        "id": "2EUqFP9O8ucd"
      },
      "source": [
        "#Arranging dataset columns"
      ]
    },
    {
      "cell_type": "code",
      "metadata": {
        "colab": {
          "base_uri": "https://localhost:8080/"
        },
        "id": "u_YssteIBykx",
        "outputId": "6d50990f-718c-47e6-f593-3183521b5190"
      },
      "source": [
        "data.columns.values"
      ],
      "execution_count": 21,
      "outputs": [
        {
          "output_type": "execute_result",
          "data": {
            "text/plain": [
              "array(['Price', 'Mileage', 'EngineV', 'Year', 'Brand_BMW',\n",
              "       'Brand_Mercedes-Benz', 'Brand_Mitsubishi', 'Brand_Renault',\n",
              "       'Brand_Toyota', 'Brand_Volkswagen', 'Body_hatch', 'Body_other',\n",
              "       'Body_sedan', 'Body_vagon', 'Body_van', 'Engine Type_Gas',\n",
              "       'Engine Type_Other', 'Engine Type_Petrol', 'Registration_yes',\n",
              "       'log_price'], dtype=object)"
            ]
          },
          "metadata": {},
          "execution_count": 21
        }
      ]
    },
    {
      "cell_type": "code",
      "metadata": {
        "colab": {
          "base_uri": "https://localhost:8080/",
          "height": 0
        },
        "id": "C8ocEBPihzOu",
        "outputId": "85e0f774-dc0c-4ccc-c503-8e97d544230b"
      },
      "source": [
        "#arranging columns\n",
        "titles=['Price','log_price', 'Mileage', 'EngineV', 'Year', 'Brand_BMW',\n",
        "       'Brand_Mercedes-Benz', 'Brand_Mitsubishi', 'Brand_Renault',\n",
        "       'Brand_Toyota', 'Brand_Volkswagen', 'Body_hatch', 'Body_other',\n",
        "       'Body_sedan', 'Body_vagon', 'Body_van', 'Engine Type_Gas',\n",
        "       'Engine Type_Other', 'Engine Type_Petrol', 'Registration_yes',]\n",
        "data=data.reindex(columns=titles)\n",
        "data"
      ],
      "execution_count": 22,
      "outputs": [
        {
          "output_type": "execute_result",
          "data": {
            "text/html": [
              "<div>\n",
              "<style scoped>\n",
              "    .dataframe tbody tr th:only-of-type {\n",
              "        vertical-align: middle;\n",
              "    }\n",
              "\n",
              "    .dataframe tbody tr th {\n",
              "        vertical-align: top;\n",
              "    }\n",
              "\n",
              "    .dataframe thead th {\n",
              "        text-align: right;\n",
              "    }\n",
              "</style>\n",
              "<table border=\"1\" class=\"dataframe\">\n",
              "  <thead>\n",
              "    <tr style=\"text-align: right;\">\n",
              "      <th></th>\n",
              "      <th>Price</th>\n",
              "      <th>log_price</th>\n",
              "      <th>Mileage</th>\n",
              "      <th>EngineV</th>\n",
              "      <th>Year</th>\n",
              "      <th>Brand_BMW</th>\n",
              "      <th>Brand_Mercedes-Benz</th>\n",
              "      <th>Brand_Mitsubishi</th>\n",
              "      <th>Brand_Renault</th>\n",
              "      <th>Brand_Toyota</th>\n",
              "      <th>Brand_Volkswagen</th>\n",
              "      <th>Body_hatch</th>\n",
              "      <th>Body_other</th>\n",
              "      <th>Body_sedan</th>\n",
              "      <th>Body_vagon</th>\n",
              "      <th>Body_van</th>\n",
              "      <th>Engine Type_Gas</th>\n",
              "      <th>Engine Type_Other</th>\n",
              "      <th>Engine Type_Petrol</th>\n",
              "      <th>Registration_yes</th>\n",
              "    </tr>\n",
              "  </thead>\n",
              "  <tbody>\n",
              "    <tr>\n",
              "      <th>0</th>\n",
              "      <td>4200.0</td>\n",
              "      <td>8.342840</td>\n",
              "      <td>277</td>\n",
              "      <td>2.0</td>\n",
              "      <td>1991</td>\n",
              "      <td>1</td>\n",
              "      <td>0</td>\n",
              "      <td>0</td>\n",
              "      <td>0</td>\n",
              "      <td>0</td>\n",
              "      <td>0</td>\n",
              "      <td>0</td>\n",
              "      <td>0</td>\n",
              "      <td>1</td>\n",
              "      <td>0</td>\n",
              "      <td>0</td>\n",
              "      <td>0</td>\n",
              "      <td>0</td>\n",
              "      <td>1</td>\n",
              "      <td>1</td>\n",
              "    </tr>\n",
              "    <tr>\n",
              "      <th>1</th>\n",
              "      <td>7900.0</td>\n",
              "      <td>8.974618</td>\n",
              "      <td>427</td>\n",
              "      <td>2.9</td>\n",
              "      <td>1999</td>\n",
              "      <td>0</td>\n",
              "      <td>1</td>\n",
              "      <td>0</td>\n",
              "      <td>0</td>\n",
              "      <td>0</td>\n",
              "      <td>0</td>\n",
              "      <td>0</td>\n",
              "      <td>0</td>\n",
              "      <td>0</td>\n",
              "      <td>0</td>\n",
              "      <td>1</td>\n",
              "      <td>0</td>\n",
              "      <td>0</td>\n",
              "      <td>0</td>\n",
              "      <td>1</td>\n",
              "    </tr>\n",
              "    <tr>\n",
              "      <th>2</th>\n",
              "      <td>13300.0</td>\n",
              "      <td>9.495519</td>\n",
              "      <td>358</td>\n",
              "      <td>5.0</td>\n",
              "      <td>2003</td>\n",
              "      <td>0</td>\n",
              "      <td>1</td>\n",
              "      <td>0</td>\n",
              "      <td>0</td>\n",
              "      <td>0</td>\n",
              "      <td>0</td>\n",
              "      <td>0</td>\n",
              "      <td>0</td>\n",
              "      <td>1</td>\n",
              "      <td>0</td>\n",
              "      <td>0</td>\n",
              "      <td>1</td>\n",
              "      <td>0</td>\n",
              "      <td>0</td>\n",
              "      <td>1</td>\n",
              "    </tr>\n",
              "    <tr>\n",
              "      <th>3</th>\n",
              "      <td>23000.0</td>\n",
              "      <td>10.043249</td>\n",
              "      <td>240</td>\n",
              "      <td>4.2</td>\n",
              "      <td>2007</td>\n",
              "      <td>0</td>\n",
              "      <td>0</td>\n",
              "      <td>0</td>\n",
              "      <td>0</td>\n",
              "      <td>0</td>\n",
              "      <td>0</td>\n",
              "      <td>0</td>\n",
              "      <td>0</td>\n",
              "      <td>0</td>\n",
              "      <td>0</td>\n",
              "      <td>0</td>\n",
              "      <td>0</td>\n",
              "      <td>0</td>\n",
              "      <td>1</td>\n",
              "      <td>1</td>\n",
              "    </tr>\n",
              "    <tr>\n",
              "      <th>4</th>\n",
              "      <td>18300.0</td>\n",
              "      <td>9.814656</td>\n",
              "      <td>120</td>\n",
              "      <td>2.0</td>\n",
              "      <td>2011</td>\n",
              "      <td>0</td>\n",
              "      <td>0</td>\n",
              "      <td>0</td>\n",
              "      <td>0</td>\n",
              "      <td>1</td>\n",
              "      <td>0</td>\n",
              "      <td>0</td>\n",
              "      <td>0</td>\n",
              "      <td>0</td>\n",
              "      <td>0</td>\n",
              "      <td>0</td>\n",
              "      <td>0</td>\n",
              "      <td>0</td>\n",
              "      <td>1</td>\n",
              "      <td>1</td>\n",
              "    </tr>\n",
              "    <tr>\n",
              "      <th>...</th>\n",
              "      <td>...</td>\n",
              "      <td>...</td>\n",
              "      <td>...</td>\n",
              "      <td>...</td>\n",
              "      <td>...</td>\n",
              "      <td>...</td>\n",
              "      <td>...</td>\n",
              "      <td>...</td>\n",
              "      <td>...</td>\n",
              "      <td>...</td>\n",
              "      <td>...</td>\n",
              "      <td>...</td>\n",
              "      <td>...</td>\n",
              "      <td>...</td>\n",
              "      <td>...</td>\n",
              "      <td>...</td>\n",
              "      <td>...</td>\n",
              "      <td>...</td>\n",
              "      <td>...</td>\n",
              "      <td>...</td>\n",
              "    </tr>\n",
              "    <tr>\n",
              "      <th>4339</th>\n",
              "      <td>17900.0</td>\n",
              "      <td>9.792556</td>\n",
              "      <td>35</td>\n",
              "      <td>1.6</td>\n",
              "      <td>2014</td>\n",
              "      <td>0</td>\n",
              "      <td>0</td>\n",
              "      <td>0</td>\n",
              "      <td>0</td>\n",
              "      <td>1</td>\n",
              "      <td>0</td>\n",
              "      <td>0</td>\n",
              "      <td>0</td>\n",
              "      <td>1</td>\n",
              "      <td>0</td>\n",
              "      <td>0</td>\n",
              "      <td>0</td>\n",
              "      <td>0</td>\n",
              "      <td>1</td>\n",
              "      <td>1</td>\n",
              "    </tr>\n",
              "    <tr>\n",
              "      <th>4340</th>\n",
              "      <td>125000.0</td>\n",
              "      <td>11.736069</td>\n",
              "      <td>9</td>\n",
              "      <td>3.0</td>\n",
              "      <td>2014</td>\n",
              "      <td>0</td>\n",
              "      <td>1</td>\n",
              "      <td>0</td>\n",
              "      <td>0</td>\n",
              "      <td>0</td>\n",
              "      <td>0</td>\n",
              "      <td>0</td>\n",
              "      <td>0</td>\n",
              "      <td>1</td>\n",
              "      <td>0</td>\n",
              "      <td>0</td>\n",
              "      <td>0</td>\n",
              "      <td>0</td>\n",
              "      <td>0</td>\n",
              "      <td>1</td>\n",
              "    </tr>\n",
              "    <tr>\n",
              "      <th>4341</th>\n",
              "      <td>6500.0</td>\n",
              "      <td>8.779557</td>\n",
              "      <td>1</td>\n",
              "      <td>3.5</td>\n",
              "      <td>1999</td>\n",
              "      <td>1</td>\n",
              "      <td>0</td>\n",
              "      <td>0</td>\n",
              "      <td>0</td>\n",
              "      <td>0</td>\n",
              "      <td>0</td>\n",
              "      <td>0</td>\n",
              "      <td>0</td>\n",
              "      <td>1</td>\n",
              "      <td>0</td>\n",
              "      <td>0</td>\n",
              "      <td>0</td>\n",
              "      <td>0</td>\n",
              "      <td>1</td>\n",
              "      <td>1</td>\n",
              "    </tr>\n",
              "    <tr>\n",
              "      <th>4342</th>\n",
              "      <td>8000.0</td>\n",
              "      <td>8.987197</td>\n",
              "      <td>194</td>\n",
              "      <td>2.0</td>\n",
              "      <td>1985</td>\n",
              "      <td>1</td>\n",
              "      <td>0</td>\n",
              "      <td>0</td>\n",
              "      <td>0</td>\n",
              "      <td>0</td>\n",
              "      <td>0</td>\n",
              "      <td>0</td>\n",
              "      <td>0</td>\n",
              "      <td>1</td>\n",
              "      <td>0</td>\n",
              "      <td>0</td>\n",
              "      <td>0</td>\n",
              "      <td>0</td>\n",
              "      <td>1</td>\n",
              "      <td>1</td>\n",
              "    </tr>\n",
              "    <tr>\n",
              "      <th>4344</th>\n",
              "      <td>13500.0</td>\n",
              "      <td>9.510445</td>\n",
              "      <td>124</td>\n",
              "      <td>2.0</td>\n",
              "      <td>2013</td>\n",
              "      <td>0</td>\n",
              "      <td>0</td>\n",
              "      <td>0</td>\n",
              "      <td>0</td>\n",
              "      <td>0</td>\n",
              "      <td>1</td>\n",
              "      <td>0</td>\n",
              "      <td>0</td>\n",
              "      <td>0</td>\n",
              "      <td>0</td>\n",
              "      <td>1</td>\n",
              "      <td>0</td>\n",
              "      <td>0</td>\n",
              "      <td>0</td>\n",
              "      <td>1</td>\n",
              "    </tr>\n",
              "  </tbody>\n",
              "</table>\n",
              "<p>3922 rows × 20 columns</p>\n",
              "</div>"
            ],
            "text/plain": [
              "         Price  log_price  ...  Engine Type_Petrol  Registration_yes\n",
              "0       4200.0   8.342840  ...                   1                 1\n",
              "1       7900.0   8.974618  ...                   0                 1\n",
              "2      13300.0   9.495519  ...                   0                 1\n",
              "3      23000.0  10.043249  ...                   1                 1\n",
              "4      18300.0   9.814656  ...                   1                 1\n",
              "...        ...        ...  ...                 ...               ...\n",
              "4339   17900.0   9.792556  ...                   1                 1\n",
              "4340  125000.0  11.736069  ...                   0                 1\n",
              "4341    6500.0   8.779557  ...                   1                 1\n",
              "4342    8000.0   8.987197  ...                   1                 1\n",
              "4344   13500.0   9.510445  ...                   0                 1\n",
              "\n",
              "[3922 rows x 20 columns]"
            ]
          },
          "metadata": {},
          "execution_count": 22
        }
      ]
    },
    {
      "cell_type": "markdown",
      "metadata": {
        "id": "RYsyRNiL81_f"
      },
      "source": [
        "Now data looks relatively better than last time."
      ]
    },
    {
      "cell_type": "code",
      "metadata": {
        "colab": {
          "base_uri": "https://localhost:8080/",
          "height": 0
        },
        "id": "g0r72YKaiePN",
        "outputId": "90678286-3f5f-49c7-e696-11be8108bc4d"
      },
      "source": [
        "f, (ax1, ax2, ax3)= plt.subplots(1,3,sharey=True, figsize=(15,3))\n",
        "ax1.scatter(data['Year'],data['log_price'])\n",
        "ax2.scatter(data['Mileage'],data['log_price'])\n",
        "ax3.scatter(data['EngineV'],data['log_price'])\n",
        "plt.show()"
      ],
      "execution_count": 23,
      "outputs": [
        {
          "output_type": "display_data",
          "data": {
            "image/png": "[encoded data removed]",
            "text/plain": [
              "<Figure size 1080x216 with 3 Axes>"
            ]
          },
          "metadata": {
            "needs_background": "light"
          }
        }
      ]
    },
    {
      "cell_type": "markdown",
      "metadata": {
        "id": "nB_3mPLI858P"
      },
      "source": [
        "#VIF to check for Multicollinearity\n",
        "Most variables which has VIF more than 5 suffer from Multicollinearity. VIF is too relative since it depends on context of variables. However we can ignore it if it's a variable of interest."
      ]
    },
    {
      "cell_type": "code",
      "metadata": {
        "colab": {
          "base_uri": "https://localhost:8080/",
          "height": 0
        },
        "id": "VcGLyw85aOUs",
        "outputId": "ad02b674-83ff-49a1-de02-22087d4a2501"
      },
      "source": [
        "from statsmodels.stats.outliers_influence import variance_inflation_factor\n",
        "vars=data[['Mileage','Year','EngineV']]\n",
        "vif=pd.DataFrame()\n",
        "vif['VIF']=[variance_inflation_factor(vars.values,i) for i in range (vars.shape[1])]\n",
        "vif['Features']=vars.columns\n",
        "vif"
      ],
      "execution_count": 24,
      "outputs": [
        {
          "output_type": "execute_result",
          "data": {
            "text/html": [
              "<div>\n",
              "<style scoped>\n",
              "    .dataframe tbody tr th:only-of-type {\n",
              "        vertical-align: middle;\n",
              "    }\n",
              "\n",
              "    .dataframe tbody tr th {\n",
              "        vertical-align: top;\n",
              "    }\n",
              "\n",
              "    .dataframe thead th {\n",
              "        text-align: right;\n",
              "    }\n",
              "</style>\n",
              "<table border=\"1\" class=\"dataframe\">\n",
              "  <thead>\n",
              "    <tr style=\"text-align: right;\">\n",
              "      <th></th>\n",
              "      <th>VIF</th>\n",
              "      <th>Features</th>\n",
              "    </tr>\n",
              "  </thead>\n",
              "  <tbody>\n",
              "    <tr>\n",
              "      <th>0</th>\n",
              "      <td>3.791774</td>\n",
              "      <td>Mileage</td>\n",
              "    </tr>\n",
              "    <tr>\n",
              "      <th>1</th>\n",
              "      <td>10.374484</td>\n",
              "      <td>Year</td>\n",
              "    </tr>\n",
              "    <tr>\n",
              "      <th>2</th>\n",
              "      <td>7.647392</td>\n",
              "      <td>EngineV</td>\n",
              "    </tr>\n",
              "  </tbody>\n",
              "</table>\n",
              "</div>"
            ],
            "text/plain": [
              "         VIF Features\n",
              "0   3.791774  Mileage\n",
              "1  10.374484     Year\n",
              "2   7.647392  EngineV"
            ]
          },
          "metadata": {},
          "execution_count": 24
        }
      ]
    },
    {
      "cell_type": "markdown",
      "metadata": {
        "id": "5fA-FYa39NV6"
      },
      "source": [
        "I'll choose to drop Year column since it's VIF is too extreme."
      ]
    },
    {
      "cell_type": "code",
      "metadata": {
        "id": "kQDIfjiqrcUH"
      },
      "source": [
        "data=data.drop(['Year'],axis=1)"
      ],
      "execution_count": 25,
      "outputs": []
    },
    {
      "cell_type": "code",
      "metadata": {
        "id": "8HHPFBPTr-Sj",
        "colab": {
          "base_uri": "https://localhost:8080/",
          "height": 0
        },
        "outputId": "1b57b890-3751-465c-b333-43165557d64d"
      },
      "source": [
        "data"
      ],
      "execution_count": 26,
      "outputs": [
        {
          "output_type": "execute_result",
          "data": {
            "text/html": [
              "<div>\n",
              "<style scoped>\n",
              "    .dataframe tbody tr th:only-of-type {\n",
              "        vertical-align: middle;\n",
              "    }\n",
              "\n",
              "    .dataframe tbody tr th {\n",
              "        vertical-align: top;\n",
              "    }\n",
              "\n",
              "    .dataframe thead th {\n",
              "        text-align: right;\n",
              "    }\n",
              "</style>\n",
              "<table border=\"1\" class=\"dataframe\">\n",
              "  <thead>\n",
              "    <tr style=\"text-align: right;\">\n",
              "      <th></th>\n",
              "      <th>Price</th>\n",
              "      <th>log_price</th>\n",
              "      <th>Mileage</th>\n",
              "      <th>EngineV</th>\n",
              "      <th>Brand_BMW</th>\n",
              "      <th>Brand_Mercedes-Benz</th>\n",
              "      <th>Brand_Mitsubishi</th>\n",
              "      <th>Brand_Renault</th>\n",
              "      <th>Brand_Toyota</th>\n",
              "      <th>Brand_Volkswagen</th>\n",
              "      <th>Body_hatch</th>\n",
              "      <th>Body_other</th>\n",
              "      <th>Body_sedan</th>\n",
              "      <th>Body_vagon</th>\n",
              "      <th>Body_van</th>\n",
              "      <th>Engine Type_Gas</th>\n",
              "      <th>Engine Type_Other</th>\n",
              "      <th>Engine Type_Petrol</th>\n",
              "      <th>Registration_yes</th>\n",
              "    </tr>\n",
              "  </thead>\n",
              "  <tbody>\n",
              "    <tr>\n",
              "      <th>0</th>\n",
              "      <td>4200.0</td>\n",
              "      <td>8.342840</td>\n",
              "      <td>277</td>\n",
              "      <td>2.0</td>\n",
              "      <td>1</td>\n",
              "      <td>0</td>\n",
              "      <td>0</td>\n",
              "      <td>0</td>\n",
              "      <td>0</td>\n",
              "      <td>0</td>\n",
              "      <td>0</td>\n",
              "      <td>0</td>\n",
              "      <td>1</td>\n",
              "      <td>0</td>\n",
              "      <td>0</td>\n",
              "      <td>0</td>\n",
              "      <td>0</td>\n",
              "      <td>1</td>\n",
              "      <td>1</td>\n",
              "    </tr>\n",
              "    <tr>\n",
              "      <th>1</th>\n",
              "      <td>7900.0</td>\n",
              "      <td>8.974618</td>\n",
              "      <td>427</td>\n",
              "      <td>2.9</td>\n",
              "      <td>0</td>\n",
              "      <td>1</td>\n",
              "      <td>0</td>\n",
              "      <td>0</td>\n",
              "      <td>0</td>\n",
              "      <td>0</td>\n",
              "      <td>0</td>\n",
              "      <td>0</td>\n",
              "      <td>0</td>\n",
              "      <td>0</td>\n",
              "      <td>1</td>\n",
              "      <td>0</td>\n",
              "      <td>0</td>\n",
              "      <td>0</td>\n",
              "      <td>1</td>\n",
              "    </tr>\n",
              "    <tr>\n",
              "      <th>2</th>\n",
              "      <td>13300.0</td>\n",
              "      <td>9.495519</td>\n",
              "      <td>358</td>\n",
              "      <td>5.0</td>\n",
              "      <td>0</td>\n",
              "      <td>1</td>\n",
              "      <td>0</td>\n",
              "      <td>0</td>\n",
              "      <td>0</td>\n",
              "      <td>0</td>\n",
              "      <td>0</td>\n",
              "      <td>0</td>\n",
              "      <td>1</td>\n",
              "      <td>0</td>\n",
              "      <td>0</td>\n",
              "      <td>1</td>\n",
              "      <td>0</td>\n",
              "      <td>0</td>\n",
              "      <td>1</td>\n",
              "    </tr>\n",
              "    <tr>\n",
              "      <th>3</th>\n",
              "      <td>23000.0</td>\n",
              "      <td>10.043249</td>\n",
              "      <td>240</td>\n",
              "      <td>4.2</td>\n",
              "      <td>0</td>\n",
              "      <td>0</td>\n",
              "      <td>0</td>\n",
              "      <td>0</td>\n",
              "      <td>0</td>\n",
              "      <td>0</td>\n",
              "      <td>0</td>\n",
              "      <td>0</td>\n",
              "      <td>0</td>\n",
              "      <td>0</td>\n",
              "      <td>0</td>\n",
              "      <td>0</td>\n",
              "      <td>0</td>\n",
              "      <td>1</td>\n",
              "      <td>1</td>\n",
              "    </tr>\n",
              "    <tr>\n",
              "      <th>4</th>\n",
              "      <td>18300.0</td>\n",
              "      <td>9.814656</td>\n",
              "      <td>120</td>\n",
              "      <td>2.0</td>\n",
              "      <td>0</td>\n",
              "      <td>0</td>\n",
              "      <td>0</td>\n",
              "      <td>0</td>\n",
              "      <td>1</td>\n",
              "      <td>0</td>\n",
              "      <td>0</td>\n",
              "      <td>0</td>\n",
              "      <td>0</td>\n",
              "      <td>0</td>\n",
              "      <td>0</td>\n",
              "      <td>0</td>\n",
              "      <td>0</td>\n",
              "      <td>1</td>\n",
              "      <td>1</td>\n",
              "    </tr>\n",
              "    <tr>\n",
              "      <th>...</th>\n",
              "      <td>...</td>\n",
              "      <td>...</td>\n",
              "      <td>...</td>\n",
              "      <td>...</td>\n",
              "      <td>...</td>\n",
              "      <td>...</td>\n",
              "      <td>...</td>\n",
              "      <td>...</td>\n",
              "      <td>...</td>\n",
              "      <td>...</td>\n",
              "      <td>...</td>\n",
              "      <td>...</td>\n",
              "      <td>...</td>\n",
              "      <td>...</td>\n",
              "      <td>...</td>\n",
              "      <td>...</td>\n",
              "      <td>...</td>\n",
              "      <td>...</td>\n",
              "      <td>...</td>\n",
              "    </tr>\n",
              "    <tr>\n",
              "      <th>4339</th>\n",
              "      <td>17900.0</td>\n",
              "      <td>9.792556</td>\n",
              "      <td>35</td>\n",
              "      <td>1.6</td>\n",
              "      <td>0</td>\n",
              "      <td>0</td>\n",
              "      <td>0</td>\n",
              "      <td>0</td>\n",
              "      <td>1</td>\n",
              "      <td>0</td>\n",
              "      <td>0</td>\n",
              "      <td>0</td>\n",
              "      <td>1</td>\n",
              "      <td>0</td>\n",
              "      <td>0</td>\n",
              "      <td>0</td>\n",
              "      <td>0</td>\n",
              "      <td>1</td>\n",
              "      <td>1</td>\n",
              "    </tr>\n",
              "    <tr>\n",
              "      <th>4340</th>\n",
              "      <td>125000.0</td>\n",
              "      <td>11.736069</td>\n",
              "      <td>9</td>\n",
              "      <td>3.0</td>\n",
              "      <td>0</td>\n",
              "      <td>1</td>\n",
              "      <td>0</td>\n",
              "      <td>0</td>\n",
              "      <td>0</td>\n",
              "      <td>0</td>\n",
              "      <td>0</td>\n",
              "      <td>0</td>\n",
              "      <td>1</td>\n",
              "      <td>0</td>\n",
              "      <td>0</td>\n",
              "      <td>0</td>\n",
              "      <td>0</td>\n",
              "      <td>0</td>\n",
              "      <td>1</td>\n",
              "    </tr>\n",
              "    <tr>\n",
              "      <th>4341</th>\n",
              "      <td>6500.0</td>\n",
              "      <td>8.779557</td>\n",
              "      <td>1</td>\n",
              "      <td>3.5</td>\n",
              "      <td>1</td>\n",
              "      <td>0</td>\n",
              "      <td>0</td>\n",
              "      <td>0</td>\n",
              "      <td>0</td>\n",
              "      <td>0</td>\n",
              "      <td>0</td>\n",
              "      <td>0</td>\n",
              "      <td>1</td>\n",
              "      <td>0</td>\n",
              "      <td>0</td>\n",
              "      <td>0</td>\n",
              "      <td>0</td>\n",
              "      <td>1</td>\n",
              "      <td>1</td>\n",
              "    </tr>\n",
              "    <tr>\n",
              "      <th>4342</th>\n",
              "      <td>8000.0</td>\n",
              "      <td>8.987197</td>\n",
              "      <td>194</td>\n",
              "      <td>2.0</td>\n",
              "      <td>1</td>\n",
              "      <td>0</td>\n",
              "      <td>0</td>\n",
              "      <td>0</td>\n",
              "      <td>0</td>\n",
              "      <td>0</td>\n",
              "      <td>0</td>\n",
              "      <td>0</td>\n",
              "      <td>1</td>\n",
              "      <td>0</td>\n",
              "      <td>0</td>\n",
              "      <td>0</td>\n",
              "      <td>0</td>\n",
              "      <td>1</td>\n",
              "      <td>1</td>\n",
              "    </tr>\n",
              "    <tr>\n",
              "      <th>4344</th>\n",
              "      <td>13500.0</td>\n",
              "      <td>9.510445</td>\n",
              "      <td>124</td>\n",
              "      <td>2.0</td>\n",
              "      <td>0</td>\n",
              "      <td>0</td>\n",
              "      <td>0</td>\n",
              "      <td>0</td>\n",
              "      <td>0</td>\n",
              "      <td>1</td>\n",
              "      <td>0</td>\n",
              "      <td>0</td>\n",
              "      <td>0</td>\n",
              "      <td>0</td>\n",
              "      <td>1</td>\n",
              "      <td>0</td>\n",
              "      <td>0</td>\n",
              "      <td>0</td>\n",
              "      <td>1</td>\n",
              "    </tr>\n",
              "  </tbody>\n",
              "</table>\n",
              "<p>3922 rows × 19 columns</p>\n",
              "</div>"
            ],
            "text/plain": [
              "         Price  log_price  ...  Engine Type_Petrol  Registration_yes\n",
              "0       4200.0   8.342840  ...                   1                 1\n",
              "1       7900.0   8.974618  ...                   0                 1\n",
              "2      13300.0   9.495519  ...                   0                 1\n",
              "3      23000.0  10.043249  ...                   1                 1\n",
              "4      18300.0   9.814656  ...                   1                 1\n",
              "...        ...        ...  ...                 ...               ...\n",
              "4339   17900.0   9.792556  ...                   1                 1\n",
              "4340  125000.0  11.736069  ...                   0                 1\n",
              "4341    6500.0   8.779557  ...                   1                 1\n",
              "4342    8000.0   8.987197  ...                   1                 1\n",
              "4344   13500.0   9.510445  ...                   0                 1\n",
              "\n",
              "[3922 rows x 19 columns]"
            ]
          },
          "metadata": {},
          "execution_count": 26
        }
      ]
    },
    {
      "cell_type": "markdown",
      "metadata": {
        "id": "ykByzkWgCo-h"
      },
      "source": [
        "#Getting ready for our model\n",
        "First, we declare our inputs and targets."
      ]
    },
    {
      "cell_type": "code",
      "metadata": {
        "id": "elYHpxTdCWQV"
      },
      "source": [
        "y=data['log_price']\n",
        "x=data.drop(columns=['log_price'])"
      ],
      "execution_count": 27,
      "outputs": []
    },
    {
      "cell_type": "markdown",
      "metadata": {
        "id": "Pa5c96U7C5Cw"
      },
      "source": [
        "Then we scale data."
      ]
    },
    {
      "cell_type": "code",
      "metadata": {
        "id": "GzYH9qywC3pM"
      },
      "source": [
        "from sklearn.preprocessing import StandardScaler\n",
        "scaler= StandardScaler()\n",
        "scaler.fit(x)\n",
        "inputs_scaled=scaler.transform(x)"
      ],
      "execution_count": 28,
      "outputs": []
    },
    {
      "cell_type": "markdown",
      "metadata": {
        "id": "9fKQf3DWDYZC"
      },
      "source": [
        "#Train-test split"
      ]
    },
    {
      "cell_type": "code",
      "metadata": {
        "id": "GpKmtXAiDZlk"
      },
      "source": [
        "from sklearn.model_selection import train_test_split\n",
        "x_train ,x_test ,y_train ,y_test = train_test_split(inputs_scaled,y,test_size=0.2)\n"
      ],
      "execution_count": 29,
      "outputs": []
    },
    {
      "cell_type": "markdown",
      "metadata": {
        "id": "XgYPVDCqE1ZX"
      },
      "source": [
        "#Creaing our regression model"
      ]
    },
    {
      "cell_type": "code",
      "metadata": {
        "colab": {
          "base_uri": "https://localhost:8080/"
        },
        "id": "Ae6hsoxUEVou",
        "outputId": "00f7a5d1-287a-4c5d-faae-05399a2333ff"
      },
      "source": [
        "from sklearn.linear_model import LinearRegression\n",
        "LR = LinearRegression()\n",
        "LR.fit(x_train,y_train)"
      ],
      "execution_count": 38,
      "outputs": [
        {
          "output_type": "execute_result",
          "data": {
            "text/plain": [
              "LinearRegression(copy_X=True, fit_intercept=True, n_jobs=None, normalize=False)"
            ]
          },
          "metadata": {},
          "execution_count": 38
        }
      ]
    },
    {
      "cell_type": "markdown",
      "metadata": {
        "id": "MHe9-G1NI30o"
      },
      "source": [
        "Regression model created! Now let's take a look at plots between targets and predicted values."
      ]
    },
    {
      "cell_type": "code",
      "metadata": {
        "colab": {
          "base_uri": "https://localhost:8080/",
          "height": 285
        },
        "id": "QM7RcnaiE7C2",
        "outputId": "44361355-727e-476d-8dec-3727f964f771"
      },
      "source": [
        "yhat=LR.predict(x_test)\n",
        "\n",
        "plt.scatter(yhat,y_test)"
      ],
      "execution_count": 39,
      "outputs": [
        {
          "output_type": "execute_result",
          "data": {
            "text/plain": [
              "<matplotlib.collections.PathCollection at 0x7fadec3b1bd0>"
            ]
          },
          "metadata": {},
          "execution_count": 39
        },
        {
          "output_type": "display_data",
          "data": {
            "image/png": "[encoded data removed]",
            "text/plain": [
              "<Figure size 432x288 with 1 Axes>"
            ]
          },
          "metadata": {
            "needs_background": "light"
          }
        }
      ]
    },
    {
      "cell_type": "code",
      "metadata": {
        "colab": {
          "base_uri": "https://localhost:8080/",
          "height": 287
        },
        "id": "neo4kL4HFUX_",
        "outputId": "63fb5b14-11a0-4b91-b493-a30dbf788030"
      },
      "source": [
        "y_hat=LR.predict(x_train)\n",
        "\n",
        "plt.scatter(y_hat,y_train)"
      ],
      "execution_count": 50,
      "outputs": [
        {
          "output_type": "execute_result",
          "data": {
            "text/plain": [
              "<matplotlib.collections.PathCollection at 0x7fadec1ff950>"
            ]
          },
          "metadata": {},
          "execution_count": 50
        },
        {
          "output_type": "display_data",
          "data": {
            "image/png": "[encoded data removed]",
            "text/plain": [
              "<Figure size 432x288 with 1 Axes>"
            ]
          },
          "metadata": {
            "needs_background": "light"
          }
        }
      ]
    },
    {
      "cell_type": "code",
      "metadata": {
        "colab": {
          "base_uri": "https://localhost:8080/",
          "height": 287
        },
        "id": "aggg3jx6HyJV",
        "outputId": "b21e0ca7-69c9-4129-a3ba-03a6b7e128d6"
      },
      "source": [
        "y_hat_total=LR.predict(inputs_scaled)\n",
        "plt.scatter(y_hat_total,y)"
      ],
      "execution_count": 37,
      "outputs": [
        {
          "output_type": "execute_result",
          "data": {
            "text/plain": [
              "<matplotlib.collections.PathCollection at 0x7fadf11dd310>"
            ]
          },
          "metadata": {},
          "execution_count": 37
        },
        {
          "output_type": "display_data",
          "data": {
            "image/png": "[encoded data removed]",
            "text/plain": [
              "<Figure size 432x288 with 1 Axes>"
            ]
          },
          "metadata": {
            "needs_background": "light"
          }
        }
      ]
    },
    {
      "cell_type": "markdown",
      "metadata": {
        "id": "aD28i1AOJeuY"
      },
      "source": [
        "We got acceptable results."
      ]
    },
    {
      "cell_type": "code",
      "metadata": {
        "colab": {
          "base_uri": "https://localhost:8080/"
        },
        "id": "bKkfVIE9Gjo2",
        "outputId": "b3d8f754-b0bf-41df-822e-229eaee7f324"
      },
      "source": [
        "LR.score(x_train,y_train)"
      ],
      "execution_count": 42,
      "outputs": [
        {
          "output_type": "execute_result",
          "data": {
            "text/plain": [
              "0.8425317568196731"
            ]
          },
          "metadata": {},
          "execution_count": 42
        }
      ]
    },
    {
      "cell_type": "code",
      "metadata": {
        "colab": {
          "base_uri": "https://localhost:8080/"
        },
        "id": "X7ek4vG5KRXd",
        "outputId": "1db1897d-d1f6-4833-c8c2-91cff35f0790"
      },
      "source": [
        "LR.score(x_test,y_test)"
      ],
      "execution_count": 43,
      "outputs": [
        {
          "output_type": "execute_result",
          "data": {
            "text/plain": [
              "0.8483031970271124"
            ]
          },
          "metadata": {},
          "execution_count": 43
        }
      ]
    },
    {
      "cell_type": "markdown",
      "metadata": {
        "id": "kYG6uqPjJiPO"
      },
      "source": [
        " "
      ]
    },
    {
      "cell_type": "markdown",
      "metadata": {
        "id": "edUWg130I1VZ"
      },
      "source": [
        "Looking at the error histogram we'll notice that the error is normally distributed and the mean is around 0. Great!"
      ]
    },
    {
      "cell_type": "code",
      "metadata": {
        "colab": {
          "base_uri": "https://localhost:8080/",
          "height": 302
        },
        "id": "iSjNl4GcGjtQ",
        "outputId": "adc58d53-96fd-44c8-dd90-b7c6bda2cb79"
      },
      "source": [
        "sns.histplot(y_hat-y_train,color='red')\n"
      ],
      "execution_count": 57,
      "outputs": [
        {
          "output_type": "execute_result",
          "data": {
            "text/plain": [
              "<matplotlib.axes._subplots.AxesSubplot at 0x7fadebdc6590>"
            ]
          },
          "metadata": {},
          "execution_count": 57
        },
        {
          "output_type": "display_data",
          "data": {
            "image/png": "[encoded data removed]",
            "text/plain": [
              "<Figure size 432x288 with 1 Axes>"
            ]
          },
          "metadata": {
            "needs_background": "light"
          }
        }
      ]
    }
  ]
}
